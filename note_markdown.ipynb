{
 "cells": [
  {
   "cell_type": "markdown",
   "metadata": {},
   "source": [
    "# Note cho Markdown\n",
    "\n",
    "# Tiêu đề cấp 1\n",
    "## Tiêu đề cấp 2\n",
    "### Tiêu đề cấp 3\n",
    "*văn bản in nghiêng*\n",
    "\n",
    "**văn bản in đậm**\n",
    "\n",
    "`văn bản có nền khác`\n",
    "\n",
    "1. Mục 1\n",
    "2. Mục 2\n",
    "\n",
    "- Mục 1\n",
    "- Mục 2\n",
    "\n",
    "\\*văn bản không in đậm\\*\n",
    "\n",
    "[Text liên kết](https://www.google.com/url?sa=i&url=https%3A%2F%2Fen.wikipedia.org%2Fwiki%2FPython_%2528programming_language%2529&psig=AOvVaw0bXJRHFwl30dwVwByzruAY&ust=1709447740257000&source=images&cd=vfe&opi=89978449&ved=0CBIQjRxqFwoTCJDfu7r71IQDFQAAAAAdAAAAABAE)\n",
    "\n",
    "(Horizontal Line)\n",
    "\n",
    "---\n",
    "\n",
    "<img src=\"./image/thelook.png\">\n",
    "\n",
    "> Text blockquote\n",
    "\n",
    "Superscript và Subscript: H<sub>2</sub>O CO<sub>2</sub> X<sup>2</sup>\n",
    "\n"
   ]
  }
 ],
 "metadata": {
  "language_info": {
   "name": "python"
  }
 },
 "nbformat": 4,
 "nbformat_minor": 2
}
